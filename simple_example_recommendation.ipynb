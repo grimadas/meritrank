{
 "cells": [
  {
   "cell_type": "markdown",
   "source": [
    "## MeritRank as a recommendation algorithm\n",
    "\n",
    "1. Subjective evaluation of contribution (by merit and demerit).\n",
    "    - Users evaluate items, and form a graph of transitive relationship.\n",
    "    - For example, the evaluation can be binary - like, dislike.\n",
    "2. Recommendation and ranking using graph of evaluation.\n",
    "    - Recommend an item using the network structure.\n",
    "3. Filter and organized communities based on their expressed preferences.\n",
    "    - Like of item A -> Recommend all positive out-edges from A.\n",
    "    - Dislike of A -> Punish all nodes in a transitive path to A.\n",
    "\n",
    "\n",
    "Recommend and connect based on attribution:\n",
    "    - *Transitivity of Love*: I like it, so I must others suggestions/likes from it. Use transitiviy on positive attribution. My like gives you power to recommend.\n",
    "    - *Consequences of Hate*: I dislike it, adjust the recommendation.\n",
    "    - *Conflict potential*: I like, they dislike or They like, I dislike - decrease score, use conflict mitigation (Avoid, Accomodate, Compromise, Compete, Collaborate) - decrease score\n",
    "\n",
    "\n",
    "\n"
   ],
   "metadata": {
    "collapsed": false,
    "pycharm": {
     "name": "#%% md\n"
    }
   }
  },
  {
   "cell_type": "code",
   "execution_count": 1,
   "outputs": [],
   "source": [
    "import networkx as nx\n",
    "\n",
    "from trust.hitting_time import BL_PHT, PersonalizedHittingTime\n"
   ],
   "metadata": {
    "collapsed": false,
    "pycharm": {
     "name": "#%%\n"
    }
   }
  },
  {
   "cell_type": "code",
   "execution_count": 2,
   "outputs": [],
   "source": [
    "# Create test graph\n",
    "PG = nx.DiGraph() # positive contribution graph\n",
    "\n",
    "\n",
    "CREATES = 50\n",
    "LIKES = 1\n",
    "DISLIKES = -1\n",
    "\n",
    "CREATED_BY = 50\n",
    "RELATED_TO = 1\n",
    "\n",
    "\n",
    "# User creates posts and ranks them (optionally)\n",
    "PG.add_edge(\"user1\", \"post1\", weight = CREATES)\n",
    "PG.add_edge(\"post1\", \"user1\", weight = CREATED_BY)\n",
    "\n",
    "PG.add_edge(\"user2\", \"post2\", weight = CREATES)\n",
    "PG.add_edge(\"post2\", \"user2\", weight = CREATED_BY)\n",
    "\n",
    "# Note: If user3 thinks post4 is more important - assign more weight\n",
    "PG.add_edge(\"user3\", \"post3\", weight = CREATES)\n",
    "PG.add_edge(\"user3\", \"post4\", weight = CREATES)\n",
    "PG.add_edge(\"post3\", \"user3\", weight = CREATED_BY)\n",
    "PG.add_edge(\"post4\", \"user3\", weight = CREATED_BY)\n",
    "\n",
    "\n",
    "# Users like posts\n",
    "PG.add_edge(\"user1\", \"post2\", weight=LIKES)\n",
    "PG.add_edge(\"user1\", \"post3\", weight=DISLIKES)\n",
    "PG.add_edge(\"user2\", \"post3\", weight=DISLIKES)\n",
    "\n",
    "# User's negative attributions, aka dislikes\n",
    "\n",
    "# The effect of negative edges - decrease the reputation of the node.\n",
    "# Stop any positive transitivity.\n",
    "# Transitively punish all nodes with positive relationship to the target node.\n",
    "\n",
    "# As an effect the total proportional reputation is also split between positive and negative attributions.\n"
   ],
   "metadata": {
    "collapsed": false,
    "pycharm": {
     "name": "#%%\n"
    }
   }
  },
  {
   "cell_type": "code",
   "execution_count": 3,
   "outputs": [
    {
     "data": {
      "text/plain": "<Figure size 432x288 with 1 Axes>",
      "image/png": "[encoded data removed]"
     },
     "metadata": {},
     "output_type": "display_data"
    }
   ],
   "source": [
    "def vis_graph(g):\n",
    "    # Visualize the graph, for clarity\n",
    "    pos=nx.spring_layout(g)\n",
    "    nx.draw_networkx(g,pos)\n",
    "    labels = nx.get_edge_attributes(g,'weight')\n",
    "    nx.draw_networkx_edge_labels(g,pos,edge_labels=labels)\n",
    "\n",
    "vis_graph(PG)"
   ],
   "metadata": {
    "collapsed": false,
    "pycharm": {
     "name": "#%%\n"
    }
   }
  },
  {
   "cell_type": "code",
   "execution_count": 3,
   "outputs": [],
   "source": [],
   "metadata": {
    "collapsed": false,
    "pycharm": {
     "name": "#%%\n"
    }
   }
  },
  {
   "cell_type": "code",
   "execution_count": 4,
   "outputs": [],
   "source": [
    "# Since we use it for recommendation for the user1 - we need to remove user1 contributions. We don't recommend own content to the user.\n",
    "\n",
    "G1 = PG.copy()\n",
    "G1.remove_edge(\"user1\", \"post1\")\n",
    "G1.remove_edge(\"post1\", \"user1\")\n",
    "\n",
    "ppr = PersonalizedHittingTime(G1, \"user1\", reset_probability=0.15)"
   ],
   "metadata": {
    "collapsed": false,
    "pycharm": {
     "name": "#%%\n"
    }
   }
  },
  {
   "cell_type": "code",
   "execution_count": 5,
   "outputs": [
    {
     "name": "stdout",
     "output_type": "stream",
     "text": [
      "Reputation for user1 is 1.287001287001287\n",
      "Reputation for post1 is 0.0\n",
      "Reputation for user2 is 0.4491634491634492\n",
      "Reputation for post2 is 0.5508365508365508\n",
      "Reputation for user3 is 0.0\n",
      "Reputation for post3 is 0.0\n",
      "Reputation for post4 is 0.0\n"
     ]
    }
   ],
   "source": [
    "for g in G1.nodes():\n",
    "    print('Reputation for {} is {}'.format(g, ppr.compute('user1', g)))"
   ],
   "metadata": {
    "collapsed": false,
    "pycharm": {
     "name": "#%%\n"
    }
   }
  },
  {
   "cell_type": "code",
   "execution_count": 6,
   "outputs": [],
   "source": [
    "blppr = BL_PHT(G1, 'user1')"
   ],
   "metadata": {
    "collapsed": false,
    "pycharm": {
     "name": "#%%\n"
    }
   }
  },
  {
   "cell_type": "code",
   "execution_count": 7,
   "outputs": [
    {
     "name": "stdout",
     "output_type": "stream",
     "text": [
      "Reputation for user1 is 0.8237232289950577\n",
      "Reputation for post1 is 0.0\n",
      "Reputation for user2 is 0.28665568369028005\n",
      "Reputation for post2 is 0.3418451400329489\n",
      "Reputation for user3 is -0.12663912807070224\n",
      "Reputation for post3 is -0.1830045203333847\n",
      "Reputation for post4 is -0.06185552787268404\n"
     ]
    }
   ],
   "source": [
    "for g in G1.nodes():\n",
    "    print('Reputation for {} is {}'.format(g, blppr.compute('user1', g)))"
   ],
   "metadata": {
    "collapsed": false,
    "pycharm": {
     "name": "#%%\n"
    }
   }
  },
  {
   "cell_type": "code",
   "execution_count": 14,
   "outputs": [],
   "source": [],
   "metadata": {
    "collapsed": false,
    "pycharm": {
     "name": "#%%\n"
    }
   }
  },
  {
   "cell_type": "code",
   "execution_count": 35,
   "outputs": [],
   "source": [],
   "metadata": {
    "collapsed": false,
    "pycharm": {
     "name": "#%%\n"
    }
   }
  }
 ],
 "metadata": {
  "kernelspec": {
   "display_name": "Python 3",
   "language": "python",
   "name": "python3"
  },
  "language_info": {
   "codemirror_mode": {
    "name": "ipython",
    "version": 2
   },
   "file_extension": ".py",
   "mimetype": "text/x-python",
   "name": "python",
   "nbconvert_exporter": "python",
   "pygments_lexer": "ipython2",
   "version": "2.7.6"
  }
 },
 "nbformat": 4,
 "nbformat_minor": 0
}
{
 "cells": [
  {
   "cell_type": "code",
   "execution_count": 7,
   "metadata": {
    "pycharm": {
     "name": "#%%\n"
    }
   },
   "outputs": [],
   "source": [
    "import json \n",
    "import matplotlib.pyplot as plt\n",
    "import numpy as np\n",
    "import networkx as nx\n",
    "\n",
    "from collections import defaultdict\n",
    "\n",
    "import json \n",
    "import matplotlib.pyplot as plt\n",
    "import numpy as np\n",
    "import networkx as nx\n",
    "\n",
    "from collections import defaultdict\n",
    "import sys\n",
    "\n",
    "sys.path.insert(0, '../')\n",
    "\n",
    "\n",
    "from trust.pagerank import PersonalizedPageRank, PersonalizedPageRankNx\n",
    "from trust.hitting_time import PersonalizedHittingTime\n",
    "from trust.maxflow_based import MaxFlow, BarterCast\n",
    "\n",
    "from trust.seed_choice import get_seed_rep_max\n"
   ]
  },
  {
   "cell_type": "markdown",
   "metadata": {
    "pycharm": {
     "name": "#%% md\n"
    }
   },
   "source": [
    "# MakerDAO reputation evolution"
   ]
  },
  {
   "cell_type": "code",
   "execution_count": 2,
   "metadata": {
    "pycharm": {
     "name": "#%%\n"
    }
   },
   "outputs": [],
   "source": [
    "from networkx.readwrite import json_graph\n",
    "import json\n",
    "\n",
    "l = 153\n",
    "G_t  = []\n",
    "\n",
    "for i in range(l):\n",
    "    with open('../datasets/sourcecred/makerDao_work/wg'+str(i)+'.json', 'r') as f:\n",
    "        d = json.loads(f.read())\n",
    "        G = json_graph.node_link_graph(d)\n",
    "        # Normalize the weights to [1, inf]\n",
    "        for e in list(G.edges()):\n",
    "            G[e[0]][e[1]]['weight'] *= 4\n",
    "        G_t.append(G)\n"
   ]
  },
  {
   "cell_type": "code",
   "execution_count": 3,
   "metadata": {
    "pycharm": {
     "name": "#%%\n"
    }
   },
   "outputs": [],
   "source": [
    "id_to_user = {}\n",
    "with open('../datasets/sourcecred/md_users.txt', 'r') as outfile1:\n",
    "    vals = outfile1.read()\n",
    "    for v in vals.split('\\n'):\n",
    "        vals_s = v.split(',')\n",
    "        if len(vals_s) == 2:\n",
    "            id_to_user[vals_s[0]] = vals_s[1]    "
   ]
  },
  {
   "cell_type": "markdown",
   "metadata": {
    "pycharm": {
     "name": "#%% md\n"
    }
   },
   "source": [
    "# Reputation calculation \n",
    "\n",
    "1. We assume initial period of bootstrap: T weeks. In the boostrap weeks the seeds are chosen randomly in the network. \n",
    "2. Reputation is calculated as a random walk-based metric run from the seed node. \n",
    " - We take into account the weight of the edges. \n",
    " - Random walks probability are calculated based on the weights. \n",
    "\n",
    "3. On the next rounds the seed is chosed based on previous rounds. \n"
   ]
  },
  {
   "cell_type": "code",
   "execution_count": 424,
   "metadata": {
    "pycharm": {
     "name": "#%%\n"
    }
   },
   "outputs": [],
   "source": [
    "def normalize(rep_vals):\n",
    "    \"\"\"Normalize reputation values to [0, 1].\"\"\"\n",
    "    max_rep = sum(rep_vals.values())\n",
    "    new_vals = {}\n",
    "    for v in rep_vals:\n",
    "        new_vals[v] = rep_vals[v] / max_rep\n",
    "    return new_vals\n",
    "\n",
    "def build_aux_graph(G, seed_node):\n",
    "    H = G.copy()\n",
    "    for e in G.edges():\n",
    "        if e[0] != seed_node:\n",
    "            H[e[0]][e[1]]['weight'] = G[e[0]][e[1]]['weight'] / G.out_degree(e[0], weight='weight')\n",
    "    return H\n",
    "\n",
    "def decay_aux_graph(G, seed_node, p=0.85):\n",
    "    lvl = 0\n",
    "    cur_s = {seed_node}\n",
    "    next_s = set()\n",
    "\n",
    "    for f,t,_ in nx.edge_bfs(G, seed_node, orientation='original'):\n",
    "        if f in cur_s:\n",
    "            next_s.add(t)\n",
    "            G[f][t]['weight'] *= p**lvl\n",
    "        else:\n",
    "            # Start of new level \n",
    "            lvl += 1\n",
    "            cur_s = next_s.copy()\n",
    "            next_s = {t}\n",
    "            G[f][t]['weight'] *= p**lvl\n",
    "    return G\n",
    "\n",
    "def seed_flow_graph(G, seed_node, flow_node):\n",
    "    H = G.copy()\n",
    "    for e2 in G[seed_node]:\n",
    "        if e2 != flow_node:\n",
    "            H.remove_edge(seed_node, e2)\n",
    "    return H\n",
    "\n",
    "\n",
    "def aux_max_flow(G, seed_node, decay_p = 0.85):\n",
    "    T = build_aux_graph(G, seed_node)\n",
    "    T = decay_aux_graph(T, seed_node, decay_p)\n",
    "    new_vals = {}\n",
    "\n",
    "    for i in T.nodes():\n",
    "        if i != seed_node:\n",
    "            new_vals[i] = nx.maximum_flow_value(T, seed_node, i, capacity='weight')\n",
    "    return new_vals\n",
    "\n",
    "    #for e in T[seed_node]:\n",
    "    #    H = seed_flow_graph(T, seed_node, e)\n",
    "    #    f_w = H[seed_node][e]['weight']\n",
    "    #    rep_vals[e] += f_w \n",
    "    \n",
    "\n",
    "def simple_maxflow(G, seed_node, rep_vals):\n",
    "    for i in G.nodes():\n",
    "        if i != seed_node:\n",
    "            rep_vals[i] += nx.maximum_flow_value(G, seed_node, i, capacity='weight')\n",
    "\n",
    "\n",
    "def simple_pht(G, seed_node, rep_vals, decay_p: float, use_weight: bool = True):\n",
    "    pht = PersonalizedHittingTime(G, seed_node, reset_probability=1-decay_p)\n",
    "    weight_mult = G.out_degree(seed_node, weight='weight') if use_weight else 1.0\n",
    "    for i in G.nodes():\n",
    "        if i != seed_node:\n",
    "            rep_vals[i] += weight_mult * pht.compute(seed_node, i)\n",
    "\n",
    "\n",
    "def simple_ppr(G, seed_node, rep_vals, decay_p: float, use_weight: bool = True):\n",
    "    pht = PersonalizedPageRank(G, seed_node, reset_probability=1-decay_p)\n",
    "    weight_mult = G.out_degree(seed_node, weight='weight') if use_weight else 1.0\n",
    "    for i in G.nodes():\n",
    "        if i != seed_node:\n",
    "            rep_vals[i] += weight_mult *  pht.compute(seed_node, i)\n",
    "\n",
    "\n",
    "# Personalized PageRank \n",
    "# Personalized Hitting Time \n",
    "# Personalized MaxFlow\n",
    "# MeritRank\n",
    "\n",
    "\n",
    "def pick_seeds(new_seeds, num_seeds):\n",
    "    cur_seeds = []\n",
    "    selected_seeds = 0\n",
    "    while selected_seeds < num_seeds:\n",
    "        for s in new_seeds:\n",
    "            if s in G and G.out_degree(s) > 0:\n",
    "                cur_seeds.append(s)\n",
    "                selected_seeds += 1\n",
    "                if selected_seeds == num_seeds:\n",
    "                    return cur_seeds\n",
    "        if selected_seeds != num_seeds:\n",
    "            print('Cannot find enough seeds!')\n",
    "            print(new_seeds)\n",
    "            return None\n",
    "    \n",
    "def agg_rep_update(G: nx.Graph, seed_node: int, rep_alg, **rep_params):\n",
    "    \"\"\"Update reputation values based on the accumulated reputation.\"\"\"\n",
    "    new_rep = {}\n",
    "    rep = rep_alg(G, seed_node, **rep_params)\n",
    "    for v_node in G.nodes():\n",
    "        if v_node != seed_node:\n",
    "            new_rep[v_node] = rep.compute(seed_node, v_node)\n",
    "    return new_rep\n",
    "\n",
    "def aux_rep(G, s, decay_p = 0.85, rep_func = 'ppr'):\n",
    "    new_rep = defaultdict(float)\n",
    "    for k in G[s]:\n",
    "        f_w = G[s][k]['weight'] / G.out_degree(s, weight='weight')\n",
    "        H = seed_flow_graph(G, s, k)\n",
    "        if rep_func == 'ppr':\n",
    "            R = PersonalizedPageRank(H, s, number_random_walks = 1000, reset_probability =  1- decay_p)\n",
    "        for i in H.nodes():\n",
    "            if i != s:\n",
    "                new_rep[i] += f_w * R.compute(s, i)\n",
    "    return new_rep\n"
   ]
  },
  {
   "cell_type": "code",
   "execution_count": null,
   "metadata": {
    "pycharm": {
     "name": "#%%\n"
    }
   },
   "outputs": [],
   "source": []
  },
  {
   "cell_type": "code",
   "execution_count": 459,
   "metadata": {
    "pycharm": {
     "name": "#%%\n"
    }
   },
   "outputs": [],
   "source": [
    "G = G_t[10].copy()"
   ]
  },
  {
   "cell_type": "code",
   "execution_count": 460,
   "metadata": {
    "pycharm": {
     "name": "#%%\n"
    }
   },
   "outputs": [],
   "source": [
    "H = build_aux_graph(G, 0)\n",
    "H = decay_aux_graph(H, s, 0.85)"
   ]
  },
  {
   "cell_type": "code",
   "execution_count": 462,
   "metadata": {
    "pycharm": {
     "name": "#%%\n"
    }
   },
   "outputs": [
    {
     "data": {
      "text/plain": [
       "{140401: 0.748,\n",
       " 142117: 0.7959336219336218,\n",
       " 140514: 0.6994864127100968,\n",
       " 140539: 0,\n",
       " 140752: 0,\n",
       " 140557: 0,\n",
       " 141798: 0.8974358974358974,\n",
       " 141586: 0.8974358974358974,\n",
       " 141747: 0,\n",
       " 140904: 0.10793650793650793,\n",
       " 141429: 0.12041666666666664,\n",
       " 141701: 0.2564102564102564,\n",
       " 142079: 0,\n",
       " 141735: 0,\n",
       " 141389: 0.7645517640254481,\n",
       " 141086: 0.28151147098515517,\n",
       " 140957: 0.2229807692307692,\n",
       " 141821: 0,\n",
       " 141993: 0.05128205128205128,\n",
       " 142181: 0,\n",
       " 142271: 0,\n",
       " 142378: 0,\n",
       " 141911: 0,\n",
       " 141824: 0.09444444444444444,\n",
       " 141957: 0.18888888888888888,\n",
       " 141995: 0.040138888888888884,\n",
       " 140452: 0.05128205128205128,\n",
       " 141377: 0.06568181818181817}"
      ]
     },
     "execution_count": 462,
     "metadata": {},
     "output_type": "execute_result"
    }
   ],
   "source": [
    "aux_max_flow(G, s, 0.85)"
   ]
  },
  {
   "cell_type": "code",
   "execution_count": 461,
   "metadata": {
    "pycharm": {
     "name": "#%%\n"
    }
   },
   "outputs": [
    {
     "name": "stdout",
     "output_type": "stream",
     "text": [
      "0.748\n",
      "0.7959336219336218\n",
      "0.6994864127100968\n",
      "0\n",
      "0\n",
      "0\n",
      "0.8974358974358974\n",
      "0.8974358974358974\n",
      "0\n",
      "0.10793650793650793\n",
      "0.12041666666666664\n",
      "0.2564102564102564\n",
      "0\n",
      "0\n",
      "0.7645517640254481\n",
      "0.28151147098515517\n",
      "0.2229807692307692\n",
      "0\n",
      "0.05128205128205128\n",
      "0\n",
      "0\n",
      "0\n",
      "0\n",
      "0.09444444444444444\n",
      "0.18888888888888888\n",
      "0.040138888888888884\n",
      "0.05128205128205128\n",
      "0.06568181818181817\n"
     ]
    }
   ],
   "source": [
    "for i in H.nodes():\n",
    "    if i != s:\n",
    "        print(nx.maximum_flow_value(H, s, i, capacity='weight'))"
   ]
  },
  {
   "cell_type": "code",
   "execution_count": 458,
   "metadata": {
    "pycharm": {
     "name": "#%%\n"
    }
   },
   "outputs": [
    {
     "name": "stdout",
     "output_type": "stream",
     "text": [
      "0.06451612903225806\n",
      "0.13970348647768002\n",
      "0.12903225806451613\n",
      "0.1935483870967742\n",
      "0.467741935483871\n",
      "0.01717171717171717\n",
      "0.16129032258064516\n",
      "0\n",
      "0.3064516129032258\n",
      "0.16129032258064516\n",
      "0.11603128054740958\n",
      "0.03434343434343434\n",
      "0\n",
      "0\n",
      "0.01717171717171717\n"
     ]
    }
   ],
   "source": [
    "for i in H.nodes():\n",
    "    if i != s:\n",
    "        print(nx.maximum_flow_value(H, s, i, capacity='weight'))"
   ]
  },
  {
   "cell_type": "code",
   "execution_count": 453,
   "metadata": {
    "pycharm": {
     "name": "#%%\n"
    }
   },
   "outputs": [
    {
     "data": {
      "text/plain": [
       "InDegreeView({140557: 0.06451612903225806, 140799: 5.421095571095571, 140860: 1.0328796651377297, 141821: 0.12903225806451613, 141701: 0.1935483870967742, 141798: 0.596653633105246, 141362: 0.01717171717171717, 142117: 3.4259408602150536, 141747: 0, 141957: 1.3447214076246334, 142271: 0.44689393939393934, 141429: 0.11603128054740958, 141520: 0.03434343434343434, 142258: 0, 140591: 0, 142176: 0.01717171717171717})"
      ]
     },
     "execution_count": 453,
     "metadata": {},
     "output_type": "execute_result"
    }
   ],
   "source": [
    "H.in_degree(weight='weight')"
   ]
  },
  {
   "cell_type": "code",
   "execution_count": 454,
   "metadata": {
    "pycharm": {
     "name": "#%%\n"
    }
   },
   "outputs": [
    {
     "name": "stdout",
     "output_type": "stream",
     "text": [
      "0.06451612903225806\n",
      "0.13970348647768002\n",
      "0.12903225806451613\n",
      "0.1935483870967742\n",
      "0.467741935483871\n",
      "0.01717171717171717\n",
      "0.16129032258064516\n",
      "0\n",
      "0.3064516129032258\n",
      "0.16129032258064516\n",
      "0.11603128054740958\n",
      "0.03434343434343434\n",
      "0\n",
      "0\n",
      "0.01717171717171717\n"
     ]
    }
   ],
   "source": []
  },
  {
   "cell_type": "code",
   "execution_count": 437,
   "metadata": {
    "pycharm": {
     "name": "#%%\n"
    }
   },
   "outputs": [
    {
     "data": {
      "text/plain": [
       "0.467741935483871"
      ]
     },
     "execution_count": 437,
     "metadata": {},
     "output_type": "execute_result"
    }
   ],
   "source": []
  },
  {
   "cell_type": "code",
   "execution_count": 386,
   "metadata": {
    "pycharm": {
     "name": "#%%\n"
    }
   },
   "outputs": [
    {
     "data": {
      "text/plain": [
       "[(141798, 0.21531322505800465),\n",
       " (141701, 0.1665893271461717),\n",
       " (141957, 0.1308584686774942),\n",
       " (142117, 0.12529002320185614),\n",
       " (141821, 0.108584686774942),\n",
       " (140860, 0.0765661252900232),\n",
       " (140557, 0.06682134570765662),\n",
       " (141429, 0.06450116009280743),\n",
       " (142271, 0.032018561484918794),\n",
       " (141520, 0.005568445475638051)]"
      ]
     },
     "execution_count": 386,
     "metadata": {},
     "output_type": "execute_result"
    }
   ],
   "source": [
    "G = G_t[0]\n",
    "s = 140799\n",
    "reps = dict()\n",
    "R = PersonalizedHittingTime(G, s)\n",
    "\n",
    "for t in G.nodes():\n",
    "    if t != s:\n",
    "        reps[t] = R.compute(s, t)\n",
    "sorted(reps.items(), key=lambda x: x[1], reverse=True)[:10]"
   ]
  },
  {
   "cell_type": "code",
   "execution_count": 405,
   "metadata": {
    "pycharm": {
     "name": "#%%\n"
    }
   },
   "outputs": [],
   "source": [
    "G = G_t[100]\n",
    "vals = aux_max_flow(G, s, 0.85)"
   ]
  },
  {
   "cell_type": "code",
   "execution_count": 411,
   "metadata": {
    "pycharm": {
     "name": "#%%\n"
    }
   },
   "outputs": [],
   "source": [
    "H = build_aux_graph(G, 0)"
   ]
  },
  {
   "cell_type": "code",
   "execution_count": null,
   "metadata": {
    "pycharm": {
     "name": "#%%\n"
    }
   },
   "outputs": [],
   "source": [
    "normalize()"
   ]
  },
  {
   "cell_type": "code",
   "execution_count": 428,
   "metadata": {
    "pycharm": {
     "name": "#%%\n"
    }
   },
   "outputs": [
    {
     "data": {
      "text/plain": [
       "AtlasView({141573: {'weight': 20.5}, 141221: {'weight': 8}, 140655: {'weight': 4}, 140751: {'weight': 8}, 140402: {'weight': 4}, 140557: {'weight': 12}, 142258: {'weight': 8}, 142194: {'weight': 4}, 140397: {'weight': 18.0}, 141563: {'weight': 4}, 142378: {'weight': 4}, 141031: {'weight': 16}, 140506: {'weight': 4}, 142079: {'weight': 4}, 141389: {'weight': 8}, 140926: {'weight': 4}, 140571: {'weight': 8}, 141270: {'weight': 8}, 141924: {'weight': 4}, 142077: {'weight': 9.0}, 140452: {'weight': 8.0}, 141806: {'weight': 11.0}, 142292: {'weight': 4}, 140968: {'weight': 8.0}, 141297: {'weight': 1.0}, 141447: {'weight': 1.0}, 141824: {'weight': 2.0}, 141957: {'weight': 1.0}, 142188: {'weight': 1.0}, 142231: {'weight': 1.0}})"
      ]
     },
     "execution_count": 428,
     "metadata": {},
     "output_type": "execute_result"
    }
   ],
   "source": []
  },
  {
   "cell_type": "code",
   "execution_count": 430,
   "metadata": {
    "pycharm": {
     "name": "#%%\n"
    }
   },
   "outputs": [
    {
     "data": {
      "text/plain": [
       "[(141031, 0.02531248264343893),\n",
       " (140587, 0.02531248264343893),\n",
       " (141945, 0.02531248264343893),\n",
       " (140571, 0.02531248264343893),\n",
       " (140888, 0.02531248264343893),\n",
       " (140397, 0.025312482643438928),\n",
       " (140926, 0.025312482643438928),\n",
       " (142077, 0.025312482643438928),\n",
       " (140557, 0.025312482643438924),\n",
       " (140904, 0.025312482643438924)]"
      ]
     },
     "execution_count": 430,
     "metadata": {},
     "output_type": "execute_result"
    }
   ],
   "source": []
  },
  {
   "cell_type": "code",
   "execution_count": 423,
   "metadata": {
    "pycharm": {
     "name": "#%%\n"
    }
   },
   "outputs": [
    {
     "data": {
      "text/plain": [
       "AtlasView({141573: {'weight': 0.10379746835443038}, 141221: {'weight': 0.04050632911392405}, 140655: {'weight': 0.020253164556962026}, 140751: {'weight': 0.04050632911392405}, 140402: {'weight': 0.020253164556962026}, 140557: {'weight': 0.060759493670886074}, 142258: {'weight': 0.04050632911392405}, 142194: {'weight': 0.020253164556962026}, 140397: {'weight': 0.09113924050632911}, 141563: {'weight': 0.020253164556962026}, 142378: {'weight': 0.020253164556962026}, 141031: {'weight': 0.0810126582278481}, 140506: {'weight': 0.020253164556962026}, 142079: {'weight': 0.020253164556962026}, 141389: {'weight': 0.04050632911392405}, 140926: {'weight': 0.020253164556962026}, 140571: {'weight': 0.04050632911392405}, 141270: {'weight': 0.04050632911392405}, 141924: {'weight': 0.020253164556962026}, 142077: {'weight': 0.04556962025316456}, 140452: {'weight': 0.04050632911392405}, 141806: {'weight': 0.05569620253164557}, 142292: {'weight': 0.020253164556962026}, 140968: {'weight': 0.04050632911392405}, 141297: {'weight': 0.005063291139240506}, 141447: {'weight': 0.005063291139240506}, 141824: {'weight': 0.010126582278481013}, 141957: {'weight': 0.005063291139240506}, 142188: {'weight': 0.005063291139240506}, 142231: {'weight': 0.005063291139240506}})"
      ]
     },
     "execution_count": 423,
     "metadata": {},
     "output_type": "execute_result"
    }
   ],
   "source": [
    "H2[s]"
   ]
  },
  {
   "cell_type": "code",
   "execution_count": 422,
   "metadata": {
    "pycharm": {
     "name": "#%%\n"
    }
   },
   "outputs": [
    {
     "data": {
      "text/plain": [
       "0.9746835443037974"
      ]
     },
     "execution_count": 422,
     "metadata": {},
     "output_type": "execute_result"
    }
   ],
   "source": [
    "nx.maximum_flow_value(H2, s, 140397, capacity='weight')"
   ]
  },
  {
   "cell_type": "code",
   "execution_count": 381,
   "metadata": {
    "pycharm": {
     "name": "#%%\n"
    }
   },
   "outputs": [
    {
     "data": {
      "text/plain": [
       "0.07066974595842956"
      ]
     },
     "execution_count": 381,
     "metadata": {},
     "output_type": "execute_result"
    }
   ],
   "source": [
    "R = PersonalizedHittingTime(G_t[0], s)\n",
    "R.compute(s, 141429)"
   ]
  },
  {
   "cell_type": "code",
   "execution_count": 345,
   "metadata": {
    "pycharm": {
     "name": "#%%\n"
    }
   },
   "outputs": [],
   "source": [
    "H.remove_edge(140799, 141429)"
   ]
  },
  {
   "cell_type": "code",
   "execution_count": 354,
   "metadata": {
    "pycharm": {
     "name": "#%%\n"
    }
   },
   "outputs": [],
   "source": [
    "S = build_aux_graph(H, 0)"
   ]
  },
  {
   "cell_type": "code",
   "execution_count": 356,
   "metadata": {
    "pycharm": {
     "name": "#%%\n"
    }
   },
   "outputs": [
    {
     "name": "stdout",
     "output_type": "stream",
     "text": [
      "0.1\n",
      "0.06060606060606061\n",
      "-\n"
     ]
    }
   ],
   "source": [
    "for e in nx.all_simple_edge_paths(H, s, 141429):\n",
    "    for f,t in e:\n",
    "        print(S[f][t]['weight'])\n",
    "    print(\"-\")\n"
   ]
  },
  {
   "cell_type": "code",
   "execution_count": 359,
   "metadata": {
    "pycharm": {
     "name": "#%%\n"
    }
   },
   "outputs": [
    {
     "data": {
      "text/plain": [
       "0.0071794871794871795"
      ]
     },
     "execution_count": 359,
     "metadata": {},
     "output_type": "execute_result"
    }
   ],
   "source": [
    "R = PersonalizedHittingTime(H, s)\n",
    "R.compute(s, 141429)"
   ]
  },
  {
   "cell_type": "code",
   "execution_count": 338,
   "metadata": {
    "pycharm": {
     "name": "#%%\n"
    }
   },
   "outputs": [
    {
     "data": {
      "text/plain": [
       "AtlasView({141821: {'weight': 0.125}, 141701: {'weight': 0.1875}, 141798: {'weight': 0.296875}, 141429: {'weight': 0.0625}, 140557: {'weight': 0.0625}, 140860: {'weight': 0.03125}, 141957: {'weight': 0.109375}, 142117: {'weight': 0.09375}, 0: {'weight': 0.03125}})"
      ]
     },
     "execution_count": 338,
     "metadata": {},
     "output_type": "execute_result"
    }
   ],
   "source": [
    "S[140799]"
   ]
  },
  {
   "cell_type": "code",
   "execution_count": 333,
   "metadata": {
    "pycharm": {
     "name": "#%%\n"
    }
   },
   "outputs": [],
   "source": [
    "R = PersonalizedHittingTime(H, s)"
   ]
  },
  {
   "cell_type": "code",
   "execution_count": 334,
   "metadata": {
    "pycharm": {
     "name": "#%%\n"
    }
   },
   "outputs": [
    {
     "data": {
      "text/plain": [
       "0.1010194624652456"
      ]
     },
     "execution_count": 334,
     "metadata": {},
     "output_type": "execute_result"
    }
   ],
   "source": [
    "R.compute(s, 141821)"
   ]
  },
  {
   "cell_type": "code",
   "execution_count": 327,
   "metadata": {
    "pycharm": {
     "name": "#%%\n"
    }
   },
   "outputs": [
    {
     "data": {
      "text/plain": [
       "0.11617100371747212"
      ]
     },
     "execution_count": 327,
     "metadata": {},
     "output_type": "execute_result"
    }
   ],
   "source": [
    "R.compute(s, 141821)"
   ]
  },
  {
   "cell_type": "code",
   "execution_count": 75,
   "metadata": {
    "pycharm": {
     "name": "#%%\n"
    }
   },
   "outputs": [],
   "source": [
    "s = 140799\n",
    "old_reps = defaultdict(float)\n",
    "\n",
    "G = G_t[10]\n",
    "R = PersonalizedPageRank(G, s, number_random_walks = 1000, reset_probability = 0.15 )\n",
    "for i in G.nodes():\n",
    "    if i != s:\n",
    "        old_reps[i] += R.compute(s, i)\n"
   ]
  },
  {
   "cell_type": "code",
   "execution_count": 459,
   "metadata": {
    "pycharm": {
     "name": "#%%\n"
    }
   },
   "outputs": [],
   "source": [
    "# Choose the inital seeds \n",
    "G = G_t[0]\n",
    "num_seeds = 3 \n",
    "\n",
    "score  = {i: G.in_degree(i)*G.out_degree(i) for i in G.nodes()}\n",
    "sorted_score = sorted(score.items(), key=lambda x: x[1], reverse=True)\n",
    "initial_seeds = [k for k,_ in sorted_score[:num_seeds]]\n",
    "\n",
    "\n",
    "seed_decay = True\n",
    "seed_decay_p = 0.05\n",
    "decay_p = 0.85\n",
    "\n",
    "\n",
    "# Attack specification \n",
    "start_attack_w = 10\n",
    "end_attack_w = 25\n",
    "max_l = 50\n",
    "\n",
    "num_attack_edges = 3\n",
    "weight_attack_edges = 20\n",
    "attacker_node = 140799\n",
    "\n",
    "reward_per_w = 1000\n",
    "\n",
    "# rep_algs = {'ppr': PersonalizedPageRank}\n",
    "rep_algs = {'ppr': PersonalizedPageRank, 'pht': PersonalizedHittingTime, 'pmf': MaxFlow}\n",
    "rep_args = {'ppr': {'number_random_walks': 1000, 'reset_probability': 1 - decay_p}, \n",
    "            'pht': {'number_random_walks': 1000, 'reset_probability': 1 - decay_p}, \n",
    "            'pmf': {},\n",
    "            'aux_ppr': {'number_random_walks': 1000, 'reset_probability': 1 - decay_p}}\n",
    "\n"
   ]
  },
  {
   "cell_type": "code",
   "execution_count": null,
   "metadata": {
    "pycharm": {
     "name": "#%%\n"
    }
   },
   "outputs": [],
   "source": [
    "rep_vals = {'ppr': defaultdict(float), 'pht': defaultdict(float), 'pmf': defaultdict(float)}\n",
    "new_seeds = {'ppr': initial_seeds.copy(), 'pht': initial_seeds.copy(), 'pmf': initial_seeds.copy()}\n",
    "cur_seeds = {}\n",
    "\n",
    "H_t = [G_t[i].copy() for i in range(max_l)]\n",
    "\n",
    "rewards = {'ppr': defaultdict(float), 'pht': defaultdict(float), 'pmf': defaultdict(float)}\n",
    "used_rep = {'ppr': defaultdict(float), 'pht': defaultdict(float), 'pmf': defaultdict(float)}\n",
    "\n",
    "syb_count = 0\n",
    "\n",
    "for w in range(max_l):\n",
    "    G = H_t[w]\n",
    "    # # 1. Pick seeds for reputation calculation \n",
    "    for r_n in rep_algs.keys():\n",
    "        cur_seeds[r_n] = pick_seeds(new_seeds[r_n], num_seeds)\n",
    "    # 2. Insert Attack edges \n",
    "    # We mimic the attack edges as a real user - attacker_node\n",
    "    if w == start_attack_w:\n",
    "        for i in range(num_attack_edges):\n",
    "            G.add_edge(attacker_node, attacker_node + i)\n",
    "    # 3. Insert Sybil edges\n",
    "    # 4. Update reputation\n",
    "    for r_n in rep_algs.keys():\n",
    "        for seed_node in cur_seeds[r_n]:    \n",
    "            new_rep = agg_rep_update(G, seed_node, rep_algs[r_n], **rep_args[r_n])\n",
    "            for k,v in new_rep.items():\n",
    "                rep_vals[r_n][k] += v\n",
    "            # 5. Optional seed punish\n",
    "            if seed_decay:\n",
    "                rep_vals[r_n][seed_node] *= seed_decay_p\n",
    "        # 6. Choose new seeds: maximum reputation \n",
    "        new_seeds[r_n] = [k for k,_ in sorted(rep_vals[r_n].items(), key=lambda x: x[1], reverse=True)]\n",
    "    # 7. Distribute the rewards \n",
    "    for r_n in rep_algs.keys():\n",
    "        rep_sum = sum(rep_vals[r_n].values())\n",
    "        for k,v in rep_vals[r_n].items():\n",
    "            # rewards[r_n][k] += (v - used_rep[r_n][k]) * reward_per_w / num_seeds\n",
    "            rewards[r_n][k] += (v / rep_sum) * reward_per_w \n",
    "            used_rep[r_n][k] = rep_vals[r_n][k]\n"
   ]
  },
  {
   "cell_type": "code",
   "execution_count": 309,
   "metadata": {
    "pycharm": {
     "name": "#%%\n"
    }
   },
   "outputs": [
    {
     "name": "stdout",
     "output_type": "stream",
     "text": [
      "@equivrel 141519 278.46857668969506\n",
      "@charlesstlouis 141362 264.04369184491486\n",
      "@cyrus 141429 260.2216625786077\n",
      "@monet-supply 141945 259.0170898990639\n",
      "@MakerMan 140820 248.44388957587046\n",
      "@LongForWisdom 140799 242.0987523853942\n",
      "@rune 142141 231.22284262084898\n",
      "@befitsandpiper 141280 224.82829238234388\n",
      "@hexonaut 141627 223.0645502392742\n",
      "@Jiecut 140714 214.67707788349355\n",
      "@NikKunkel 140904 185.19765601607543\n",
      "@Andy_McCall 140433 179.25429922875588\n",
      "@Jtathmann 140738 177.46134333518057\n",
      "@s_ben 142150 172.22139199975078\n",
      "@cmooney 141389 167.04566945237724\n",
      "@FourthStreet 140621 148.75027550285557\n",
      "@hongbiao_li 141638 147.52744218686473\n",
      "@Kurt_Barry 140773 138.0095615171009\n",
      "@andytudhope 141231 132.17204047113324\n",
      "@Spidomo 141054 125.94887234725405\n"
     ]
    }
   ],
   "source": [
    "for k,v in sorted([(k,v) for k,v in rep_vals.items() if v > 0], key=lambda x: x[1], reverse=True)[:20]:\n",
    "    print(id_to_user.get(str(k)), k, v)"
   ]
  },
  {
   "cell_type": "code",
   "execution_count": null,
   "metadata": {
    "pycharm": {
     "name": "#%%\n"
    }
   },
   "outputs": [],
   "source": []
  },
  {
   "cell_type": "code",
   "execution_count": 463,
   "metadata": {
    "pycharm": {
     "name": "#%%\n"
    }
   },
   "outputs": [],
   "source": [
    "\n",
    "attack_w = 10\n",
    "num_syb = 5\n",
    "\n",
    "attack_w = 20\n",
    "max_l = 80\n",
    "\n",
    "def add_sybil_path_region(G, attacker_node, total_syb, num_syb):\n",
    "    G.add_edge(attacker_node, attacker_node*2 + total_syb, weight=attack_w)\n",
    "    a = attacker_node*2 + total_syb\n",
    "    for i in range(num_syb):\n",
    "        G.add_edge(a + i, a + i + 1, weight=attack_w)\n",
    "    return num_syb + 1\n",
    "\n",
    "def add_sybil_cycle_region(G, attacker_node, total_syb, num_syb):\n",
    "    for i in range(num_syb):\n",
    "        a = attacker_node*2 + total_syb + i\n",
    "        G.add_edge(attacker_node, a, weight=attack_w)\n",
    "        G.add_edge(a, attacker_node, weight=attack_w)\n",
    "    return num_syb\n",
    "\n",
    "def add_sybil_parallel_region(G, attacker_node, total_syb, num_syb):\n",
    "    a = attacker_node*2 + total_syb\n",
    "    for i in range(num_syb):\n",
    "        G.add_edge(attacker_node, a + i, weight=attack_w)\n",
    "    return num_syb + 1\n",
    "\n",
    "\n",
    "    "
   ]
  },
  {
   "cell_type": "code",
   "execution_count": 190,
   "metadata": {
    "pycharm": {
     "name": "#%%\n"
    }
   },
   "outputs": [],
   "source": [
    "# Pre-run the reputation \n",
    "\n",
    "rep_vals = defaultdict(float)\n",
    "seed_punish = False\n",
    "\n",
    "G = G_t[0]\n",
    "num_seeds = 3 \n",
    "\n",
    "score  = {i: G.in_degree(i)*G.out_degree(i) for i in G.nodes()}\n",
    "sorted_score = sorted(score.items(), key=lambda x: x[1], reverse=True)\n",
    "initial_seeds = [k for k,_ in sorted_score[:num_seeds]]\n",
    "new_seeds = initial_seeds.copy()\n",
    "\n",
    "for w in range(40):\n",
    "    cur_seeds = []\n",
    "    selected_seeds = 0\n",
    "    G = G_t[w].copy()\n",
    "    # 1. Select seeds based on gained reputation \n",
    "    while selected_seeds < num_seeds:\n",
    "        for s in new_seeds:\n",
    "            if s in G:\n",
    "                cur_seeds.append(s)\n",
    "                selected_seeds += 1\n",
    "                if selected_seeds == num_seeds:\n",
    "                    break\n",
    "        if selected_seeds != num_seeds:\n",
    "            print('Cannot find enough seeds!')\n",
    "            break\n",
    "    # 2. Build auxiliary graph. Weights for indirect edges are change to proportional. \n",
    "    for seed_node in cur_seeds:\n",
    "        # simple_maxflow(G, seed_node, rep_vals,)\n",
    "        # simple_ppr(G, seed_node, rep_vals, decay_p = decay_p, use_weight= False)\n",
    "        simple_pht(G, seed_node, rep_vals, decay_p = decay_p, use_weight=False)\n",
    "        # aux_max_flow(G, seed_node, rep_vals, decay_p = decay_p)\n",
    "        # 3. Seed punish\n",
    "        if seed_punish:\n",
    "            intro_rep = G.out_degree(seed_node, weight='weight')\n",
    "            rep_vals[seed_node] -= intro_rep * seed_decay\n",
    "            rep_vals[seed_node] = max(rep_vals[seed_node], 0)\n",
    "\n",
    "    new_seeds = sorted(rep_vals.items(), key=lambda x: x[1], reverse=True)\n",
    "    new_seeds = [k for k,_ in new_seeds]\n"
   ]
  },
  {
   "cell_type": "code",
   "execution_count": null,
   "metadata": {
    "pycharm": {
     "name": "#%%\n"
    }
   },
   "outputs": [],
   "source": [
    "seeds =  new_seeds[:10]"
   ]
  },
  {
   "cell_type": "code",
   "execution_count": 464,
   "metadata": {
    "pycharm": {
     "name": "#%%\n"
    }
   },
   "outputs": [],
   "source": [
    "import pandas as pd\n",
    "df = pd.DataFrame(columns=['active', 'passive', 'num_syb', 'weeks', 'decay_p'])"
   ]
  },
  {
   "cell_type": "code",
   "execution_count": 465,
   "metadata": {
    "pycharm": {
     "name": "#%%\n"
    }
   },
   "outputs": [
    {
     "name": "stdout",
     "output_type": "stream",
     "text": [
      "Processed 30 our of 30\n",
      "Processed 30 our of 30\n",
      "Processed 30 our of 30\n",
      "Processed 30 our of 30\n",
      "Processed 30 our of 30\n",
      "Processed 30 our of 30\n",
      "Processed 30 our of 30\n",
      "Processed 30 our of 30\n",
      "Processed 30 our of 30\n",
      "Processed 20 our of 30\n",
      "Processed 20 our of 30\n",
      "Processed 20 our of 30\n",
      "Processed 20 our of 30\n",
      "Processed 20 our of 30\n",
      "Processed 20 our of 30\n",
      "Processed 20 our of 30\n",
      "Processed 20 our of 30\n",
      "Processed 20 our of 30\n",
      "Processed 15 our of 30\n",
      "Processed 15 our of 30\n",
      "Processed 15 our of 30\n",
      "Processed 15 our of 30\n",
      "Processed 15 our of 30\n",
      "Processed 15 our of 30\n",
      "Processed 15 our of 30\n",
      "Processed 15 our of 30\n",
      "Processed 15 our of 30\n",
      "Processed 10 our of 30\n",
      "Processed 10 our of 30\n",
      "Processed 10 our of 30\n",
      "Processed 10 our of 30\n",
      "Processed 10 our of 30\n",
      "Processed 10 our of 30\n",
      "Processed 10 our of 30\n",
      "Processed 10 our of 30\n",
      "Processed 10 our of 30\n",
      "Processed 5 our of 30\n",
      "Processed 5 our of 30\n",
      "Processed 5 our of 30\n",
      "Processed 5 our of 30\n",
      "Processed 5 our of 30\n",
      "Processed 5 our of 30\n",
      "Processed 5 our of 30\n",
      "Processed 5 our of 30\n",
      "Processed 5 our of 30\n",
      "Processed 0 our of 30\n",
      "Processed 0 our of 30\n",
      "Processed 0 our of 30\n",
      "Processed 0 our of 30\n",
      "Processed 0 our of 30\n",
      "Processed 0 our of 30\n",
      "Processed 0 our of 30\n",
      "Processed 0 our of 30\n",
      "Processed 0 our of 30\n",
      "--- Finished 0.4 ---\n",
      "Processed 30 our of 30\n",
      "Processed 30 our of 30\n",
      "Processed 30 our of 30\n",
      "Processed 30 our of 30\n",
      "Processed 30 our of 30\n",
      "Processed 30 our of 30\n",
      "Processed 30 our of 30\n",
      "Processed 30 our of 30\n",
      "Processed 30 our of 30\n",
      "Processed 20 our of 30\n",
      "Processed 20 our of 30\n",
      "Processed 20 our of 30\n",
      "Processed 20 our of 30\n",
      "Processed 20 our of 30\n",
      "Processed 20 our of 30\n",
      "Processed 20 our of 30\n",
      "Processed 20 our of 30\n",
      "Processed 20 our of 30\n",
      "Processed 15 our of 30\n",
      "Processed 15 our of 30\n",
      "Processed 15 our of 30\n",
      "Processed 15 our of 30\n",
      "Processed 15 our of 30\n",
      "Processed 15 our of 30\n",
      "Processed 15 our of 30\n",
      "Processed 15 our of 30\n",
      "Processed 15 our of 30\n",
      "Processed 10 our of 30\n",
      "Processed 10 our of 30\n",
      "Processed 10 our of 30\n",
      "Processed 10 our of 30\n",
      "Processed 10 our of 30\n",
      "Processed 10 our of 30\n",
      "Processed 10 our of 30\n",
      "Processed 10 our of 30\n",
      "Processed 10 our of 30\n",
      "Processed 5 our of 30\n",
      "Processed 5 our of 30\n",
      "Processed 5 our of 30\n",
      "Processed 5 our of 30\n",
      "Processed 5 our of 30\n",
      "Processed 5 our of 30\n",
      "Processed 5 our of 30\n",
      "Processed 5 our of 30\n",
      "Processed 5 our of 30\n",
      "Processed 0 our of 30\n",
      "Processed 0 our of 30\n",
      "Processed 0 our of 30\n",
      "Processed 0 our of 30\n",
      "Processed 0 our of 30\n",
      "Processed 0 our of 30\n",
      "Processed 0 our of 30\n",
      "Processed 0 our of 30\n",
      "Processed 0 our of 30\n",
      "--- Finished 0.6 ---\n",
      "Processed 30 our of 30\n",
      "Processed 30 our of 30\n",
      "Processed 30 our of 30\n",
      "Processed 30 our of 30\n",
      "Processed 30 our of 30\n",
      "Processed 30 our of 30\n",
      "Processed 30 our of 30\n",
      "Processed 30 our of 30\n",
      "Processed 30 our of 30\n",
      "Processed 20 our of 30\n",
      "Processed 20 our of 30\n",
      "Processed 20 our of 30\n",
      "Processed 20 our of 30\n",
      "Processed 20 our of 30\n",
      "Processed 20 our of 30\n",
      "Processed 20 our of 30\n",
      "Processed 20 our of 30\n",
      "Processed 20 our of 30\n",
      "Processed 15 our of 30\n",
      "Processed 15 our of 30\n",
      "Processed 15 our of 30\n",
      "Processed 15 our of 30\n",
      "Processed 15 our of 30\n",
      "Processed 15 our of 30\n",
      "Processed 15 our of 30\n",
      "Processed 15 our of 30\n",
      "Processed 15 our of 30\n",
      "Processed 10 our of 30\n",
      "Processed 10 our of 30\n",
      "Processed 10 our of 30\n",
      "Processed 10 our of 30\n",
      "Processed 10 our of 30\n",
      "Processed 10 our of 30\n",
      "Processed 10 our of 30\n",
      "Processed 10 our of 30\n",
      "Processed 10 our of 30\n",
      "Processed 5 our of 30\n",
      "Processed 5 our of 30\n",
      "Processed 5 our of 30\n",
      "Processed 5 our of 30\n",
      "Processed 5 our of 30\n",
      "Processed 5 our of 30\n",
      "Processed 5 our of 30\n",
      "Processed 5 our of 30\n",
      "Processed 5 our of 30\n",
      "Processed 0 our of 30\n",
      "Processed 0 our of 30\n",
      "Processed 0 our of 30\n",
      "Processed 0 our of 30\n",
      "Processed 0 our of 30\n",
      "Processed 0 our of 30\n",
      "Processed 0 our of 30\n",
      "Processed 0 our of 30\n",
      "Processed 0 our of 30\n",
      "--- Finished 0.8 ---\n"
     ]
    }
   ],
   "source": [
    "rep_vals = defaultdict(float)\n",
    "old_rep_vals = []\n",
    "\n",
    "num_seeds = 3\n",
    "\n",
    "attacker_node = new_seeds[0]\n",
    "\n",
    "seed_decay = 0.1\n",
    "seed_punish = False\n",
    "attack_w = 20\n",
    "syb_rep_gain = {}\n",
    "\n",
    "contrib_decay_w = 8 # 2 mounts \n",
    "contrib_decay_val = 0\n",
    "N = 30\n",
    "\n",
    "for decay_p in [0.4, 0.6, 0.8]:\n",
    "    for num_syb in [30, 20, 15, 10, 5, 4, 3, 2, 1, 0]:\n",
    "        for total_weeks in range(1, 10):\n",
    "            total_syb = 0\n",
    "            rep_vals = defaultdict(float)\n",
    "            new_seeds = seeds[:num_seeds]\n",
    "            for w in range(40, 40 + total_weeks):\n",
    "                G = G_t[w].copy()\n",
    "                cur_seeds = []\n",
    "                selected_seeds = 0\n",
    "                # 1. Select seeds based on gained reputation \n",
    "                while selected_seeds < num_seeds:\n",
    "                    for s in new_seeds:\n",
    "                        if s in G:\n",
    "                            cur_seeds.append(s)\n",
    "                            selected_seeds += 1\n",
    "                            if selected_seeds == num_seeds:\n",
    "                                break\n",
    "                    if selected_seeds != num_seeds:\n",
    "                        print('Cannot find enough seeds!')\n",
    "                        break\n",
    "                if w >= attack_w and num_syb > 0:\n",
    "                    total_syb += add_sybil_parallel_region(G, attacker_node, total_syb, num_syb)\n",
    "                \n",
    "                # 2. Build auxiliary graph. Weights for indirect edges are change to proportional. \n",
    "                for seed_node in cur_seeds:\n",
    "                    # simple_maxflow(G, seed_node, rep_vals,)\n",
    "                    simple_ppr(G, seed_node, rep_vals, decay_p = decay_p, use_weight= False)\n",
    "                    # simple_pht(G, seed_node, rep_vals, decay_p = decay_p, use_weight=False)\n",
    "                    # aux_max_flow(G, seed_node, rep_vals, decay_p = decay_p)\n",
    "                    # 3. Seed punish\n",
    "                    if seed_punish:\n",
    "                        intro_rep = G.out_degree(seed_node, weight='weight')\n",
    "                        rep_vals[seed_node] -= intro_rep * seed_decay\n",
    "                        rep_vals[seed_node] = max(rep_vals[seed_node], 0)\n",
    "                \n",
    "                #old_rep_vals.append(rep_vals.copy())\n",
    "                #if len(old_rep_vals) == contrib_decay_w:\n",
    "                #    old_reps = old_rep_vals.pop(0)\n",
    "                #    for k,v in old_reps.items():\n",
    "                #        rep_vals[k] -= v * contrib_decay_val\n",
    "                \n",
    "                # Choose new seeds\n",
    "                new_seeds = sorted(rep_vals.items(), key=lambda x: x[1], reverse=True)\n",
    "                new_seeds = [k for k,_ in new_seeds]\n",
    "            df = df.append({'active': sum([rep_vals[attacker_node*2 + i] for i in range(total_syb)]), 'passive':  rep_vals[attacker_node], 'num_syb': num_syb, 'weeks': total_weeks, 'decay_p': decay_p}, ignore_index=True)\n",
    "            if num_syb % 5 == 0:\n",
    "                print(\"Processed {} our of {}\".format(num_syb, N))\n",
    "    print('--- Finished {} ---'.format(decay_p))\n",
    "        "
   ]
  },
  {
   "cell_type": "code",
   "execution_count": 466,
   "metadata": {
    "pycharm": {
     "name": "#%%\n"
    }
   },
   "outputs": [],
   "source": [
    "df['gain'] = (df['active']) / df['passive']"
   ]
  },
  {
   "cell_type": "code",
   "execution_count": null,
   "metadata": {
    "pycharm": {
     "name": "#%%\n"
    }
   },
   "outputs": [],
   "source": []
  },
  {
   "cell_type": "code",
   "execution_count": 249,
   "metadata": {
    "pycharm": {
     "name": "#%%\n"
    }
   },
   "outputs": [],
   "source": [
    "df.to_csv('syb_rep_mf_seed.csv')"
   ]
  },
  {
   "cell_type": "code",
   "execution_count": null,
   "metadata": {
    "pycharm": {
     "name": "#%%\n"
    }
   },
   "outputs": [],
   "source": []
  },
  {
   "cell_type": "code",
   "execution_count": 165,
   "metadata": {
    "pycharm": {
     "name": "#%%\n"
    }
   },
   "outputs": [],
   "source": [
    "df.to_csv('sybil_rep_maxflow.csv')"
   ]
  },
  {
   "cell_type": "code",
   "execution_count": 474,
   "metadata": {
    "pycharm": {
     "name": "#%%\n"
    }
   },
   "outputs": [],
   "source": [
    "df2 = df[df['weeks'] == 3]"
   ]
  },
  {
   "cell_type": "code",
   "execution_count": 475,
   "metadata": {
    "pycharm": {
     "name": "#%%\n"
    }
   },
   "outputs": [
    {
     "data": {
      "image/png": "[encoded data removed]",
      "text/plain": [
       "<Figure size 432x288 with 1 Axes>"
      ]
     },
     "metadata": {
      "needs_background": "light"
     },
     "output_type": "display_data"
    }
   ],
   "source": [
    "import seaborn as sns\n",
    "\n",
    "g = sns.lineplot(x='num_syb', y='gain', data=df2, estimator='mean', ci=40, hue='decay_p', )\n",
    "# g.set(yscale='log')\n",
    "# g_results.set(xticks=sample_count)\n",
    "#g_results.set(xticklabels=sample_count)\n"
   ]
  },
  {
   "cell_type": "code",
   "execution_count": 149,
   "metadata": {
    "pycharm": {
     "name": "#%%\n"
    }
   },
   "outputs": [],
   "source": [
    "df.to_csv('sybil_rep_pht.csv')"
   ]
  },
  {
   "cell_type": "code",
   "execution_count": 94,
   "metadata": {
    "pycharm": {
     "name": "#%%\n"
    }
   },
   "outputs": [
    {
     "data": {
      "text/plain": [
       "<AxesSubplot:xlabel='num_syb', ylabel='gain'>"
      ]
     },
     "execution_count": 94,
     "metadata": {},
     "output_type": "execute_result"
    },
    {
     "data": {
      "image/png": "[encoded data removed]",
      "text/plain": [
       "<Figure size 432x288 with 1 Axes>"
      ]
     },
     "metadata": {
      "needs_background": "light"
     },
     "output_type": "display_data"
    }
   ],
   "source": [
    "import seaborn as sns\n",
    "\n",
    "\n",
    "sns.lineplot(x='num_syb', y='gain', data=df, estimator='mean', ci=90, hue='decay_p')"
   ]
  },
  {
   "cell_type": "code",
   "execution_count": 242,
   "metadata": {
    "pycharm": {
     "name": "#%%\n"
    }
   },
   "outputs": [],
   "source": [
    "df.to_csv('syb_rep_gain.csv')"
   ]
  },
  {
   "cell_type": "code",
   "execution_count": 205,
   "metadata": {
    "pycharm": {
     "name": "#%%\n"
    }
   },
   "outputs": [],
   "source": [
    "aux_maxflow_syil_gain = syb_rep_gain.copy()"
   ]
  },
  {
   "cell_type": "code",
   "execution_count": 211,
   "metadata": {
    "pycharm": {
     "name": "#%%\n"
    }
   },
   "outputs": [],
   "source": [
    "aux_maxflow_syil_gain = {k // 2: v for k,v in aux_maxflow_syil_gain.items() if k > 0}"
   ]
  },
  {
   "cell_type": "code",
   "execution_count": 229,
   "metadata": {
    "pycharm": {
     "name": "#%%\n"
    }
   },
   "outputs": [],
   "source": []
  },
  {
   "cell_type": "code",
   "execution_count": 230,
   "metadata": {
    "pycharm": {
     "name": "#%%\n"
    }
   },
   "outputs": [
    {
     "data": {
      "text/html": [
       "<div>\n",
       "<style scoped>\n",
       "    .dataframe tbody tr th:only-of-type {\n",
       "        vertical-align: middle;\n",
       "    }\n",
       "\n",
       "    .dataframe tbody tr th {\n",
       "        vertical-align: top;\n",
       "    }\n",
       "\n",
       "    .dataframe thead th {\n",
       "        text-align: right;\n",
       "    }\n",
       "</style>\n",
       "<table border=\"1\" class=\"dataframe\">\n",
       "  <thead>\n",
       "    <tr style=\"text-align: right;\">\n",
       "      <th></th>\n",
       "      <th>active</th>\n",
       "      <th>passive</th>\n",
       "      <th>num_syb</th>\n",
       "      <th>weeks</th>\n",
       "    </tr>\n",
       "  </thead>\n",
       "  <tbody>\n",
       "    <tr>\n",
       "      <th>0</th>\n",
       "      <td>130.197319</td>\n",
       "      <td>96.045241</td>\n",
       "      <td>20.0</td>\n",
       "      <td>2.0</td>\n",
       "    </tr>\n",
       "    <tr>\n",
       "      <th>1</th>\n",
       "      <td>128.877114</td>\n",
       "      <td>96.045241</td>\n",
       "      <td>10.0</td>\n",
       "      <td>2.0</td>\n",
       "    </tr>\n",
       "    <tr>\n",
       "      <th>2</th>\n",
       "      <td>113.124122</td>\n",
       "      <td>96.045241</td>\n",
       "      <td>5.0</td>\n",
       "      <td>2.0</td>\n",
       "    </tr>\n",
       "    <tr>\n",
       "      <th>3</th>\n",
       "      <td>102.190226</td>\n",
       "      <td>96.045241</td>\n",
       "      <td>4.0</td>\n",
       "      <td>2.0</td>\n",
       "    </tr>\n",
       "    <tr>\n",
       "      <th>4</th>\n",
       "      <td>89.603670</td>\n",
       "      <td>96.045241</td>\n",
       "      <td>3.0</td>\n",
       "      <td>2.0</td>\n",
       "    </tr>\n",
       "    <tr>\n",
       "      <th>5</th>\n",
       "      <td>74.262682</td>\n",
       "      <td>96.045241</td>\n",
       "      <td>2.0</td>\n",
       "      <td>2.0</td>\n",
       "    </tr>\n",
       "    <tr>\n",
       "      <th>6</th>\n",
       "      <td>55.375122</td>\n",
       "      <td>96.045241</td>\n",
       "      <td>1.0</td>\n",
       "      <td>2.0</td>\n",
       "    </tr>\n",
       "  </tbody>\n",
       "</table>\n",
       "</div>"
      ],
      "text/plain": [
       "       active    passive  num_syb  weeks\n",
       "0  130.197319  96.045241     20.0    2.0\n",
       "1  128.877114  96.045241     10.0    2.0\n",
       "2  113.124122  96.045241      5.0    2.0\n",
       "3  102.190226  96.045241      4.0    2.0\n",
       "4   89.603670  96.045241      3.0    2.0\n",
       "5   74.262682  96.045241      2.0    2.0\n",
       "6   55.375122  96.045241      1.0    2.0"
      ]
     },
     "execution_count": 230,
     "metadata": {},
     "output_type": "execute_result"
    }
   ],
   "source": [
    "df"
   ]
  },
  {
   "cell_type": "code",
   "execution_count": null,
   "metadata": {
    "pycharm": {
     "name": "#%%\n"
    }
   },
   "outputs": [],
   "source": []
  },
  {
   "cell_type": "code",
   "execution_count": 214,
   "metadata": {
    "pycharm": {
     "name": "#%%\n"
    }
   },
   "outputs": [],
   "source": [
    "df['weeks'] = 2"
   ]
  },
  {
   "cell_type": "code",
   "execution_count": 207,
   "metadata": {
    "pycharm": {
     "name": "#%%\n"
    }
   },
   "outputs": [
    {
     "data": {
      "text/plain": [
       "{20: {'active': 66.11141080870743, 'passive': 6.770764067291448},\n",
       " 10: {'active': 65.82400993004147, 'passive': 6.770764067291448},\n",
       " 5: {'active': 62.394675983673466, 'passive': 6.770764067291448},\n",
       " 4: {'active': 59.91568718367347, 'passive': 6.770764067291448},\n",
       " 3: {'active': 55.78403918367347, 'passive': 6.770764067291448},\n",
       " 2: {'active': 48.89795918367347, 'passive': 6.770764067291448},\n",
       " 1: {'active': 38.46530612244898, 'passive': 6.770764067291448},\n",
       " 0: {'active': 0, 'passive': 8.770764067291449}}"
      ]
     },
     "execution_count": 207,
     "metadata": {},
     "output_type": "execute_result"
    }
   ],
   "source": [
    "syb_rep_gain"
   ]
  },
  {
   "cell_type": "code",
   "execution_count": 182,
   "metadata": {
    "pycharm": {
     "name": "#%%\n"
    }
   },
   "outputs": [
    {
     "name": "stdout",
     "output_type": "stream",
     "text": [
      "@cyrus 141429 677.8381204404394\n",
      "@MakerMan 140820 626.6017055538786\n",
      "@LongForWisdom 140799 624.8525189450362\n",
      "@psychonaut 142079 604.3843367125074\n",
      "@rich.brown 142117 555.7543889274599\n",
      "@Andy_McCall 140433 515.0330088528558\n",
      "@hexonaut 141627 456.54731652306924\n",
      "@monet-supply 141945 452.4988394004422\n",
      "@jernejml 141701 450.87176886635757\n",
      "@Mitote 140869 439.4233167089363\n",
      "@Aaron_Bartsch 140397 405.1323140067299\n",
      "@Planet_X 140957 389.576891467803\n",
      "@Derek 140571 346.7002168662156\n",
      "@charlesstlouis 141362 326.81607101214405\n",
      "@swakya 142258 310.3290980640907\n",
      "@NikKunkel 140904 304.90850543058804\n",
      "@Kurt_Barry 140773 294.4290862187448\n",
      "@rune 142141 294.11989937866036\n",
      "@spin 142238 275.8673011922343\n",
      "@latetot 141801 263.77512634017097\n"
     ]
    }
   ],
   "source": [
    "for k,v in sorted([(k,v) for k,v in rep_vals.items() if v > 0], key=lambda x: x[1], reverse=True)[:20]:\n",
    "    print(id_to_user.get(str(k)), k, v)"
   ]
  },
  {
   "cell_type": "code",
   "execution_count": 192,
   "metadata": {
    "pycharm": {
     "name": "#%%\n"
    }
   },
   "outputs": [
    {
     "data": {
      "text/plain": [
       "0.8461650498807798"
      ]
     },
     "execution_count": 192,
     "metadata": {},
     "output_type": "execute_result"
    }
   ],
   "source": [
    "sum([rep_vals[attacker_node*2 + i] for i in range(total_syb)]) / rep_vals[attacker_node]"
   ]
  },
  {
   "cell_type": "code",
   "execution_count": null,
   "metadata": {
    "pycharm": {
     "name": "#%%\n"
    }
   },
   "outputs": [],
   "source": []
  },
  {
   "cell_type": "code",
   "execution_count": 149,
   "metadata": {
    "pycharm": {
     "name": "#%%\n"
    }
   },
   "outputs": [],
   "source": []
  },
  {
   "cell_type": "code",
   "execution_count": null,
   "metadata": {
    "pycharm": {
     "name": "#%%\n"
    }
   },
   "outputs": [],
   "source": []
  },
  {
   "cell_type": "code",
   "execution_count": 279,
   "metadata": {
    "pycharm": {
     "name": "#%%\n"
    }
   },
   "outputs": [],
   "source": [
    "# Make an attack \n",
    "\n",
    "a = 200000\n",
    "x = np.random.choice([k for k,v in rep_vals.items() if v > 20], size=1)[0]\n",
    "x = 142117\n",
    "\n",
    "seed_decay = 0.1 # 30 % of introduced reputation is taken from seed reputation\n",
    "\n",
    "AG_t = [G_t[w].copy() for w in range(l)]\n",
    "\n",
    "# One attack edge \n",
    "AG_t[10].add_edge(x, a, weight=4)\n",
    "\n",
    "num_syb = 0\n",
    "# Sybil edges - arbitrary number of edges\n",
    "for i in range(1, 1000):\n",
    "    AG_t[10].add_edge(a, a+i, weight=40)\n",
    "    num_syb += 1\n",
    "\n",
    "\n",
    "for w in range(10, 20):\n",
    "    G = AG_t[w]\n",
    "    cur_seeds = []\n",
    "    selected_seeds = 0\n",
    "    # 1. Select seeds based on gained reputation \n",
    "    while selected_seeds < num_seeds:\n",
    "        for s in new_seeds:\n",
    "            if s in G:\n",
    "                cur_seeds.append(s)\n",
    "                selected_seeds += 1\n",
    "                if selected_seeds == num_seeds:\n",
    "                    break\n",
    "        if selected_seeds != num_seeds:\n",
    "            print('Cannot find enough seeds!')\n",
    "            break\n",
    "        \n",
    "    for seed_node in cur_seeds:\n",
    "        # 2. Build auxiliary graph. Weights for indirect edges are change to proportional. \n",
    "        aux_max_flow(G, seed_node, rep_vals, decay_p = 0.6)\n",
    "        # Seed punish\n",
    "        intro_rep = G.out_degree(seed_node, weight='weight')\n",
    "        rep_vals[seed_node] -= intro_rep * seed_decay\n",
    "        \n",
    "    # Choose new seeds\n",
    "    new_seeds = sorted(rep_vals.items(), key=lambda x: x[1], reverse=True)\n",
    "    new_seeds = [k for k,_ in new_seeds]\n",
    "\n",
    "    # Insert more Sybils \n",
    "    # Sybil edges - arbitrary number of edges\n",
    "    for i in range(num_syb, num_syb+5):\n",
    "        AG_t[w+1].add_edge(a, a+i, weight=40)\n",
    "        num_syb += 1\n"
   ]
  },
  {
   "cell_type": "code",
   "execution_count": 280,
   "metadata": {
    "pycharm": {
     "name": "#%%\n"
    }
   },
   "outputs": [
    {
     "data": {
      "text/plain": [
       "34.012363636364256"
      ]
     },
     "execution_count": 280,
     "metadata": {},
     "output_type": "execute_result"
    }
   ],
   "source": [
    "sum(rep_vals[a+k] for k in range(num_syb)) "
   ]
  },
  {
   "cell_type": "code",
   "execution_count": 253,
   "metadata": {
    "pycharm": {
     "name": "#%%\n"
    }
   },
   "outputs": [
    {
     "data": {
      "text/plain": [
       "11.11363636363636"
      ]
     },
     "execution_count": 253,
     "metadata": {},
     "output_type": "execute_result"
    }
   ],
   "source": []
  },
  {
   "cell_type": "code",
   "execution_count": 281,
   "metadata": {
    "pycharm": {
     "name": "#%%\n"
    }
   },
   "outputs": [
    {
     "name": "stdout",
     "output_type": "stream",
     "text": [
      "@cyrus 141429 340.6319968705102\n",
      "@ginworkflow 141586 293.70073371547255\n",
      "@LongForWisdom 140799 293.37674239172503\n",
      "@jernejml 141701 276.1740297416319\n",
      "@rich.brown 142117 275.13133118822606\n",
      "@kwadrax 141798 258.6268484954899\n",
      "@swakya 142258 240.57074524973547\n",
      "@rune 142141 206.4096833569106\n",
      "@Mitote 140869 195.85812254726426\n",
      "@Adam_Skrodzki 140401 190.17167384574154\n",
      "@Davidutro 140557 174.44913205082338\n",
      "@Planet_X 140957 174.17657989205654\n",
      "@ChrisBlec 140514 163.5106711901757\n",
      "@NikKunkel 140904 150.54022818500184\n",
      "@psychonaut 142079 133.3230621525939\n",
      "@lix 141821 130.09576079733455\n",
      "@iammeeoh 141648 123.31033704231137\n",
      "@MicahZoltu 140860 111.3973094027242\n",
      "@mmoossttaaffaa 141940 107.41048345732462\n",
      "@tbone 142271 104.66126606959794\n"
     ]
    }
   ],
   "source": [
    "for k,v in sorted([(k,v) for k,v in rep_vals.items() if v > 0], key=lambda x: x[1], reverse=True)[:20]:\n",
    "    print(id_to_user.get(str(k)), k, v)"
   ]
  },
  {
   "cell_type": "code",
   "execution_count": null,
   "metadata": {
    "pycharm": {
     "name": "#%%\n"
    }
   },
   "outputs": [],
   "source": [
    "# Attack scenario\n",
    "# a) If top contributor decides to go rogue, and creates Sybils. \n",
    "# b) When you received feedback from the reputable nodes and exploit it.\n",
    "\n",
    "# Passive attack - create links from Sybils to the attacker. \n",
    "# Active attack - receive cummulative reward due to transitivity of the reputation function. \n",
    "\n",
    "\n"
   ]
  },
  {
   "cell_type": "code",
   "execution_count": 177,
   "metadata": {
    "pycharm": {
     "name": "#%%\n"
    }
   },
   "outputs": [],
   "source": [
    "simple_maxflow_rep_vals = rep_vals.copy()"
   ]
  },
  {
   "cell_type": "code",
   "execution_count": 181,
   "metadata": {
    "pycharm": {
     "name": "#%%\n"
    }
   },
   "outputs": [
    {
     "data": {
      "text/plain": [
       "1825"
      ]
     },
     "execution_count": 181,
     "metadata": {},
     "output_type": "execute_result"
    }
   ],
   "source": [
    "sum([1 for k,v in rep_vals.items() if v > 0])"
   ]
  },
  {
   "cell_type": "code",
   "execution_count": 180,
   "metadata": {
    "pycharm": {
     "name": "#%%\n"
    }
   },
   "outputs": [
    {
     "data": {
      "text/plain": [
       "1960"
      ]
     },
     "execution_count": 180,
     "metadata": {},
     "output_type": "execute_result"
    }
   ],
   "source": []
  },
  {
   "cell_type": "code",
   "execution_count": 190,
   "metadata": {
    "pycharm": {
     "name": "#%%\n"
    }
   },
   "outputs": [
    {
     "name": "stdout",
     "output_type": "stream",
     "text": [
      "@Planet_X 140957 2037.3787872708908\n",
      "@twblack88 142317 2077.799772961968\n",
      "@g_dip 141573 2103.060565973572\n",
      "@NikKunkel 140904 2259.879547985243\n",
      "@Derek 140571 2405.1808366698756\n",
      "@Davidutro 140557 2478.3287952736314\n",
      "@MakerMan 140820 2588.1384988800824\n",
      "@Primoz 140968 2589.6205530525476\n",
      "@juan 141754 2616.678489317537\n",
      "@prose11 142077 2693.1246195289964\n",
      "@psychonaut 142079 2735.3760933790286\n",
      "@hexonaut 141627 2746.890190175418\n",
      "@ElProgreso 140587 2788.5531612718905\n",
      "@LongForWisdom 140799 2838.3929084499837\n",
      "@ultraschuppi 142325 2845.150047063644\n",
      "@SebVentures 141031 2861.2833242416664\n",
      "@monet-supply 141945 2870.138716669133\n"
     ]
    }
   ],
   "source": [
    "for k,v in sorted([(k,v) for k,v in rep_vals.items() if v > 2000], key=lambda x: x[1], reverse=False)[:20]:\n",
    "    print(id_to_user.get(str(k)), k, v)"
   ]
  },
  {
   "cell_type": "code",
   "execution_count": null,
   "metadata": {
    "pycharm": {
     "name": "#%%\n"
    }
   },
   "outputs": [],
   "source": []
  },
  {
   "cell_type": "markdown",
   "metadata": {
    "pycharm": {
     "name": "#%% md\n"
    }
   },
   "source": [
    "## Adding Sybil agents at some time\n",
    "\n",
    "- Attacker performs some work to receive positive feedback: \n",
    "  + Feedback from reputable nodes: like, reply, or references\n",
    "- After receiveing some feedback: execute traitor attack  \n",
    "  + Approve activity of Sybil bots\n",
    "  + To increase the probability to receive more rewards during the distribution. \n",
    "- Two types of attacks: passive Sybil attack (manipulate to increase the reputation of attacker) and active Sybil attack (manipulate to increase reputation of Sybil bots). \n"
   ]
  },
  {
   "cell_type": "code",
   "execution_count": 231,
   "metadata": {
    "pycharm": {
     "name": "#%%\n"
    }
   },
   "outputs": [
    {
     "name": "stdout",
     "output_type": "stream",
     "text": [
      "Adding edge to  140799\n",
      "55.79999999999997\n"
     ]
    }
   ],
   "source": [
    "a = 200_000\n",
    "num_syb = 0\n",
    "\n",
    "rep_val = defaultdict(float)\n",
    "norm_rep = {}\n",
    "bootstrap_w = 8\n",
    "H_t = [G_t[i].copy() for i in range(l)]\n",
    "\n",
    "rep_val, norm_rep = rep(H_t, rep_val, norm_rep_val, 0, bootstrap_w, 10, seed_choice='random')\n",
    "x = 140799\n",
    "# np.random.choice(list(norm_rep.keys()), p=list(norm_rep.values()), replace=False)\n",
    "\n",
    "print(\"Adding edge to \", x)\n",
    "H_t[bootstrap_w].add_edge(x, a, weight=1)\n",
    "rep_val[a] = 0\n",
    "norm_rep[a] = 0\n",
    "\n",
    "num_syb = 0\n",
    "cur_w = bootstrap_w\n",
    "while cur_w < l:\n",
    "    # Insert Sybil edges:\n",
    "    for k in range(10):\n",
    "        num_syb += 1\n",
    "        H_t[cur_w].add_edge(a, a+num_syb, weight=20)\n",
    "        rep_val[a+num_syb] = 0\n",
    "        norm_rep[a+num_syb] = 0\n",
    "    # Further distribution seed_choice='random'\n",
    "    rep_val, norm_rep = rep(H_t, rep_val, norm_rep, cur_w, cur_w + 1, 3)\n",
    "    cur_w += 1\n",
    "    \n",
    "gain = 0\n",
    "if norm_rep[a] != 0:\n",
    "    gain = sum([norm_rep[a+i] for i in range(num_syb + 1)]) / norm_rep[a] \n",
    "print(gain)"
   ]
  },
  {
   "cell_type": "code",
   "execution_count": 190,
   "metadata": {
    "pycharm": {
     "name": "#%%\n"
    }
   },
   "outputs": [
    {
     "data": {
      "text/plain": [
       "[(201017, 0.00022707099064880656),\n",
       " (201019, 0.00022707099064880656),\n",
       " (200007, 0.0002064281733170969),\n",
       " (200001, 0.0001857853559853872),\n",
       " (200004, 0.0001857853559853872),\n",
       " (200010, 0.0001857853559853872),\n",
       " (200005, 0.0001651425386536775),\n",
       " (200008, 0.0001651425386536775),\n",
       " (201013, 0.0001651425386536775),\n",
       " (200009, 0.00014449972132196784),\n",
       " (201018, 0.00014449972132196784),\n",
       " (200002, 0.00012385690399025813),\n",
       " (200003, 0.00012385690399025813),\n",
       " (201011, 0.00012385690399025813),\n",
       " (201015, 0.00012385690399025813)]"
      ]
     },
     "execution_count": 190,
     "metadata": {},
     "output_type": "execute_result"
    }
   ],
   "source": [
    "val = {i:norm_rep[i] for i in range(a, a+num_syb)}\n",
    "sorted(val.items(), key=lambda x: x[1], reverse=True)[:15]\n"
   ]
  },
  {
   "cell_type": "markdown",
   "metadata": {
    "pycharm": {
     "name": "#%% md\n"
    }
   },
   "source": [
    "## Reputation robustness \n",
    "\n",
    "The PHT reputation is vulnerable to active Sybil attack. \n",
    "As a result of creating one attack edge early with the most reputable node. \n",
    "The edge might be just a result of like from the most reputable node.\n",
    "\n",
    "There are two countermeasures for this attack: \n",
    "1. Reputation decay -> The oppositve of the contribution graph. \n",
    "2. Seed selection: How many seeds and the selection (random, or Based on previous reputation).   \n"
   ]
  },
  {
   "cell_type": "code",
   "execution_count": 232,
   "metadata": {
    "pycharm": {
     "name": "#%%\n"
    }
   },
   "outputs": [],
   "source": [
    "def update_rep(G_t, r, rep_vals, norm_vals, neg_rep):\n",
    "    G = G_t[r]\n",
    "    for s in G.nodes:\n",
    "        rep_vals[s] -= neg_rep[s]\n",
    "        if rep_vals[s] < 0:\n",
    "            rep_vals[s] = 0 \n",
    "    norm_vals = normalize(rep_vals)\n",
    "    return rep_vals, norm_vals\n",
    "\n",
    "def negative_rep(H_t, w, rep_val, norm_rep):\n",
    "    neg_rep = defaultdict(float)\n",
    "    neg_rep, _ = rep(H_t, neg_rep, {}, w, w+1, 10, seed_choice='random')\n",
    "    return update_rep(H_t, w, rep_val, norm_rep, neg_rep)\n"
   ]
  },
  {
   "cell_type": "code",
   "execution_count": 308,
   "metadata": {
    "pycharm": {
     "name": "#%%\n"
    }
   },
   "outputs": [],
   "source": [
    "def boostrap_week(H_t, start_week, end_week, number_of_seeds):\n",
    "    \"\"\"During bootstrap weeks all participants are equal.\n",
    "    For reputation calculation - any seed can be used. \n",
    "    Return reputation values that contributed during this period. \n",
    "    \"\"\"\n",
    "    # Bootstrap weeks distribution\n",
    "    rep_val = defaultdict(float)\n",
    "    norm_rep = {}\n",
    "    rep_val, norm_rep = rep(H_t, rep_val, norm_rep, \n",
    "        start_week, end_week, number_of_seeds, seed_choice='random')\n",
    "    return rep_val, norm_rep\n",
    "\n",
    "\n",
    "\n",
    "\n",
    "\n",
    "def experiment(with_decay=False):\n",
    "    a = 200_000\n",
    "    num_syb = 0\n",
    "\n",
    "    rep_val = defaultdict(float)\n",
    "    norm_rep = {}\n",
    "    rewards_per_week = 1000 # USD per week for distribution \n",
    "    rewards = defaultdict(float)\n",
    "    \n",
    "    bootstrap_w = 8\n",
    "    attack_w = 8\n",
    "    syb_attack_num = 2\n",
    "\n",
    "    # Reputation round distributions \n",
    "    num_seeds = 3\n",
    "\n",
    "    H_t = [G_t[i].copy() for i in range(l)]\n",
    "    RH_t = [H_t[i].reverse() for i in range(l)]\n",
    "\n",
    "    \n",
    "    \n",
    "    # Insert Attack edges: \n",
    "    x = 140799\n",
    "    H_t[bootstrap_w].add_edge(x, a, weight=1)\n",
    "    rep_val[a] = 0\n",
    "    norm_rep[a] = 0\n",
    "\n",
    "    num_syb = 0\n",
    "    cur_w = bootstrap_w\n",
    "    while cur_w < l:\n",
    "        # Insert Sybil edges:\n",
    "        for k in range(1):\n",
    "            num_syb += 1\n",
    "            H_t[cur_w].add_edge(a, a+num_syb, weight=20)\n",
    "            rep_val[a+num_syb] = 0\n",
    "            norm_rep[a+num_syb] = 0\n",
    "\n",
    "        # Distribute the rewards \n",
    "        if with_decay:\n",
    "            # Run punishing walks\n",
    "             \n",
    "            # Decay on previous reputations\n",
    "            r_w = cur_w - 2\n",
    "            # 1. Reverse contribution graph \n",
    "            nrep_val = defaultdict(float)\n",
    "            nnorm_rep = defaultdict(float)\n",
    "            # nrep_val, nnorm_rep = rep(H_t, nrep_val, nnorm_rep, r_w, r_w + 1, 5, seed_choice='random', given_seeds=[140799])\n",
    "            # 2. Update reputation\n",
    "            for k in list(rep_val.keys()):\n",
    "                rep_val[k] = max(rep_val[k] - nrep_val[k], 0) \n",
    "            norm_rep = normalize(rep_val)\n",
    "        rep_val, norm_rep = rep(H_t, rep_val, norm_rep, cur_w, cur_w + 1, 3, given_seeds=[140799])\n",
    "        \n",
    "        # Distribute rewards using norm_rep\n",
    "        for k, v in norm_rep.items():\n",
    "            rewards[k] += rewards_per_week * v\n",
    "            \n",
    "        cur_w += 1\n",
    "        \n",
    "    gain = 0\n",
    "    if rewards[a] != 0:\n",
    "        gain = sum([rewards[a+i] for i in range(num_syb + 1)]) / rewards[a] \n",
    "    return gain\n",
    "    "
   ]
  },
  {
   "cell_type": "code",
   "execution_count": 309,
   "metadata": {
    "pycharm": {
     "name": "#%%\n"
    }
   },
   "outputs": [
    {
     "data": {
      "text/plain": [
       "'@LongForWisdom'"
      ]
     },
     "execution_count": 309,
     "metadata": {},
     "output_type": "execute_result"
    }
   ],
   "source": [
    "id_to_user['140799']"
   ]
  },
  {
   "cell_type": "code",
   "execution_count": 310,
   "metadata": {
    "pycharm": {
     "name": "#%%\n"
    }
   },
   "outputs": [],
   "source": [
    "no_decay_vals = [experiment() for _ in range(10)]\n",
    "decay_vals = [experiment(with_decay=True) for _ in range(10)]"
   ]
  },
  {
   "cell_type": "code",
   "execution_count": 311,
   "metadata": {
    "pycharm": {
     "name": "#%%\n"
    }
   },
   "outputs": [
    {
     "data": {
      "text/plain": [
       "(1.5833333333333335, 1.6473809523809522)"
      ]
     },
     "execution_count": 311,
     "metadata": {},
     "output_type": "execute_result"
    }
   ],
   "source": [
    "np.mean(decay_vals), np.mean(no_decay_vals)"
   ]
  },
  {
   "cell_type": "code",
   "execution_count": null,
   "metadata": {
    "pycharm": {
     "name": "#%%\n"
    }
   },
   "outputs": [],
   "source": []
  },
  {
   "cell_type": "code",
   "execution_count": null,
   "metadata": {
    "pycharm": {
     "name": "#%%\n"
    }
   },
   "outputs": [],
   "source": []
  }
 ],
 "metadata": {
  "interpreter": {
   "hash": "74cbd192829565fa346022b3141b0fd27063780b621ec0011e4ed21cf4d7d415"
  },
  "kernelspec": {
   "display_name": "Python 3 (ipykernel)",
   "language": "python",
   "name": "python3"
  },
  "language_info": {
   "codemirror_mode": {
    "name": "ipython",
    "version": 3
   },
   "file_extension": ".py",
   "mimetype": "text/x-python",
   "name": "python",
   "nbconvert_exporter": "python",
   "pygments_lexer": "ipython3",
   "version": "3.9.10"
  }
 },
 "nbformat": 4,
 "nbformat_minor": 4
}